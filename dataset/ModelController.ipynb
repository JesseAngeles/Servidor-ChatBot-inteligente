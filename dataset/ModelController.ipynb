{
 "cells": [
  {
   "cell_type": "code",
   "execution_count": 26,
   "metadata": {},
   "outputs": [],
   "source": [
    "#IMPORTAR LAS LIBRERIAS\n",
    "import numpy as np # linear algebra\n",
    "import pandas as pd # data processing, CSV file I/O (e.g. pd.read_csv)\n",
    "import matplotlib.pyplot as plt\n",
    "import seaborn as sns\n",
    "# Word Cloud\n",
    "from wordcloud import WordCloud\n",
    "# from textacy import preprocessing\n",
    "from nltk.stem.snowball import SnowballStemmer\n",
    "from keras.preprocessing import sequence\n",
    "from sklearn.model_selection import train_test_split\n",
    "from tensorflow.keras.models import Sequential\n",
    "from tensorflow.keras.layers import *\n",
    "from tensorflow.keras.preprocessing.sequence import pad_sequences\n",
    "from tensorflow.keras.preprocessing.text import Tokenizer\n",
    "import re"
   ]
  },
  {
   "cell_type": "markdown",
   "metadata": {},
   "source": [
    "Separa y renombra el conjunto de entrenamiento"
   ]
  },
  {
   "cell_type": "code",
   "execution_count": 29,
   "metadata": {},
   "outputs": [
    {
     "name": "stdout",
     "output_type": "stream",
     "text": [
      "Datos guardados en 'train_data.csv' y 'test_data.csv'.\n"
     ]
    }
   ],
   "source": [
    "# Load Data \n",
    "df = pd.read_csv('./text.csv')\n",
    "# Rename Columns \n",
    "df.rename(columns={'text': 'Text', 'label': 'Label'}, inplace=True)\n",
    "# Rename {0: 'sadness', 1: 'joy', 2: 'love', 3: 'anger', 4: 'fear', 5: 'surprise'}\n",
    "df['Label'] = df['Label'].replace(0,'Sadness')\n",
    "df['Label'] = df['Label'].replace(1,'Joy')\n",
    "df['Label'] = df['Label'].replace(2,'Love')\n",
    "df['Label'] = df['Label'].replace(3,'Anger')\n",
    "df['Label'] = df['Label'].replace(4,'Fear')\n",
    "df['Label'] = df['Label'].replace(5,'Surprise')\n",
    "rain_df, test_df = train_test_split(df, test_size=0.2, stratify=df['Label'], random_state=42)\n",
    "# Guardar los conjuntos de entrenamiento y prueba en archivos CSV\n",
    "train_df.to_csv('train_data.csv', index=False)\n",
    "test_df.to_csv('test_data.csv', index=False)\n",
    "\n",
    "print(\"Datos guardados en 'train_data.csv' y 'test_data.csv'.\")"
   ]
  },
  {
   "cell_type": "raw",
   "metadata": {},
   "source": []
  }
 ],
 "metadata": {
  "kernelspec": {
   "display_name": "Python 3 (ipykernel)",
   "language": "python",
   "name": "python3"
  },
  "language_info": {
   "codemirror_mode": {
    "name": "ipython",
    "version": 3
   },
   "file_extension": ".py",
   "mimetype": "text/x-python",
   "name": "python",
   "nbconvert_exporter": "python",
   "pygments_lexer": "ipython3",
   "version": "3.12.3"
  }
 },
 "nbformat": 4,
 "nbformat_minor": 4
}
