{
 "cells": [
  {
   "cell_type": "markdown",
   "metadata": {},
   "source": [
    "## CREACIÓN DEL MODELO (Calculo de probabilidades en un archivo CSV)"
   ]
  },
  {
   "cell_type": "markdown",
   "metadata": {},
   "source": [
    "### Importación de librerias"
   ]
  },
  {
   "cell_type": "code",
   "execution_count": 8,
   "metadata": {},
   "outputs": [],
   "source": [
    "import numpy as np # linear algebra\n",
    "import pandas as pd # data processing, CSV file I/O (e.g. pd.read_csv)\n",
    "import matplotlib.pyplot as plt\n",
    "import seaborn as sns\n",
    "# Word Cloud\n",
    "from wordcloud import WordCloud\n",
    "# from textacy import preprocessing\n",
    "from nltk.stem.snowball import SnowballStemmer\n",
    "from keras.preprocessing import sequence\n",
    "from sklearn.model_selection import train_test_split\n",
    "from tensorflow.keras.models import Sequential\n",
    "from tensorflow.keras.layers import *\n",
    "from tensorflow.keras.preprocessing.sequence import pad_sequences\n",
    "from tensorflow.keras.preprocessing.text import Tokenizer\n",
    "import re\n",
    "from collections import defaultdict"
   ]
  },
  {
   "cell_type": "markdown",
   "metadata": {},
   "source": [
    "### Separación del conjunto de entrenamiento y del conjunto de pruebas"
   ]
  },
  {
   "cell_type": "code",
   "execution_count": 9,
   "metadata": {},
   "outputs": [],
   "source": [
    "test_size_average = 0.2"
   ]
  },
  {
   "cell_type": "code",
   "execution_count": 10,
   "metadata": {},
   "outputs": [],
   "source": [
    "# Load Data \n",
    "df = pd.read_csv('./text.csv')\n",
    "# Rename Columns \n",
    "df.rename(columns={'text': 'Text', 'label': 'Label'}, inplace=True)\n",
    "# Rename {0: 'sadness', 1: 'joy', 2: 'love', 3: 'anger', 4: 'fear', 5: 'surprise'}\n",
    "df['Label'] = df['Label'].replace(0,'Sadness')\n",
    "df['Label'] = df['Label'].replace(1,'Joy')\n",
    "df['Label'] = df['Label'].replace(2,'Love')\n",
    "df['Label'] = df['Label'].replace(3,'Anger')\n",
    "df['Label'] = df['Label'].replace(4,'Fear')\n",
    "df['Label'] = df['Label'].replace(5,'Surprise')\n",
    "train_df, test_df = train_test_split(df, test_size=test_size_average, stratify=df['Label'], random_state=42)"
   ]
  },
  {
   "cell_type": "markdown",
   "metadata": {},
   "source": [
    "### Conteo de labels"
   ]
  },
  {
   "cell_type": "code",
   "execution_count": 11,
   "metadata": {},
   "outputs": [],
   "source": [
    "label_counts = train_df['Label'].value_counts()"
   ]
  },
  {
   "cell_type": "markdown",
   "metadata": {},
   "source": [
    "### Conteo de palabras"
   ]
  },
  {
   "cell_type": "code",
   "execution_count": 12,
   "metadata": {},
   "outputs": [],
   "source": [
    "word_counts = defaultdict(lambda: defaultdict(int))\n",
    "\n",
    "# Iterar sobre los mensajes y las etiquetas\n",
    "for index, row in train_df.iterrows():\n",
    "    words = row['Text'].split()\n",
    "    label = row['Label']\n",
    "    for word in words:\n",
    "        if len(word) >= 3:\n",
    "            word_counts[word][label] += 1\n",
    "            \n",
    "# Convertir el diccionario a un DataFrame de pandas\n",
    "model_df = pd.DataFrame(word_counts).fillna(0).astype(int).T\n",
    "\n",
    "#Sumar un elemento para evitar probabilidades nulas\n",
    "model_df += 1;"
   ]
  },
  {
   "cell_type": "markdown",
   "metadata": {},
   "source": [
    "### Calculo de probablidades"
   ]
  },
  {
   "cell_type": "code",
   "execution_count": 13,
   "metadata": {},
   "outputs": [],
   "source": [
    "# Duplicar columnas de etiquetas con sufijo \"_proba\"\n",
    "for label in model_df.columns:\n",
    "    model_df[label + 'P'] = model_df[label] / label_counts[label]\n",
    "\n",
    "# Ordenar las columnas\n",
    "model_df = model_df.sort_index(axis=1)"
   ]
  },
  {
   "cell_type": "markdown",
   "metadata": {},
   "source": [
    "### Exportación"
   ]
  },
  {
   "cell_type": "code",
   "execution_count": 14,
   "metadata": {},
   "outputs": [
    {
     "data": {
      "text/html": [
       "<div>\n",
       "<style scoped>\n",
       "    .dataframe tbody tr th:only-of-type {\n",
       "        vertical-align: middle;\n",
       "    }\n",
       "\n",
       "    .dataframe tbody tr th {\n",
       "        vertical-align: top;\n",
       "    }\n",
       "\n",
       "    .dataframe thead th {\n",
       "        text-align: right;\n",
       "    }\n",
       "</style>\n",
       "<table border=\"1\" class=\"dataframe\">\n",
       "  <thead>\n",
       "    <tr style=\"text-align: right;\">\n",
       "      <th></th>\n",
       "      <th>Anger</th>\n",
       "      <th>AngerP</th>\n",
       "      <th>Fear</th>\n",
       "      <th>FearP</th>\n",
       "      <th>Joy</th>\n",
       "      <th>JoyP</th>\n",
       "      <th>Love</th>\n",
       "      <th>LoveP</th>\n",
       "      <th>Sadness</th>\n",
       "      <th>SadnessP</th>\n",
       "      <th>Surprise</th>\n",
       "      <th>SurpriseP</th>\n",
       "    </tr>\n",
       "  </thead>\n",
       "  <tbody>\n",
       "    <tr>\n",
       "      <th>just</th>\n",
       "      <td>4658</td>\n",
       "      <td>0.101583</td>\n",
       "      <td>3164</td>\n",
       "      <td>0.082892</td>\n",
       "      <td>8904</td>\n",
       "      <td>0.078899</td>\n",
       "      <td>2344</td>\n",
       "      <td>0.084795</td>\n",
       "      <td>9344</td>\n",
       "      <td>0.096381</td>\n",
       "      <td>1200</td>\n",
       "      <td>0.100184</td>\n",
       "    </tr>\n",
       "    <tr>\n",
       "      <th>look</th>\n",
       "      <td>547</td>\n",
       "      <td>0.011929</td>\n",
       "      <td>500</td>\n",
       "      <td>0.013099</td>\n",
       "      <td>1829</td>\n",
       "      <td>0.016207</td>\n",
       "      <td>355</td>\n",
       "      <td>0.012842</td>\n",
       "      <td>1289</td>\n",
       "      <td>0.013296</td>\n",
       "      <td>274</td>\n",
       "      <td>0.022875</td>\n",
       "    </tr>\n",
       "    <tr>\n",
       "      <th>myself</th>\n",
       "      <td>3069</td>\n",
       "      <td>0.066930</td>\n",
       "      <td>2107</td>\n",
       "      <td>0.055200</td>\n",
       "      <td>4844</td>\n",
       "      <td>0.042923</td>\n",
       "      <td>1142</td>\n",
       "      <td>0.041312</td>\n",
       "      <td>5543</td>\n",
       "      <td>0.057174</td>\n",
       "      <td>617</td>\n",
       "      <td>0.051511</td>\n",
       "    </tr>\n",
       "    <tr>\n",
       "      <th>and</th>\n",
       "      <td>26922</td>\n",
       "      <td>0.587124</td>\n",
       "      <td>22030</td>\n",
       "      <td>0.577155</td>\n",
       "      <td>69381</td>\n",
       "      <td>0.614791</td>\n",
       "      <td>18008</td>\n",
       "      <td>0.651449</td>\n",
       "      <td>56456</td>\n",
       "      <td>0.582327</td>\n",
       "      <td>7308</td>\n",
       "      <td>0.610119</td>\n",
       "    </tr>\n",
       "    <tr>\n",
       "      <th>feel</th>\n",
       "      <td>30323</td>\n",
       "      <td>0.661295</td>\n",
       "      <td>24728</td>\n",
       "      <td>0.647839</td>\n",
       "      <td>82108</td>\n",
       "      <td>0.727566</td>\n",
       "      <td>19637</td>\n",
       "      <td>0.710379</td>\n",
       "      <td>67268</td>\n",
       "      <td>0.693849</td>\n",
       "      <td>7952</td>\n",
       "      <td>0.663884</td>\n",
       "    </tr>\n",
       "  </tbody>\n",
       "</table>\n",
       "</div>"
      ],
      "text/plain": [
       "        Anger    AngerP   Fear     FearP    Joy      JoyP   Love     LoveP  \\\n",
       "just     4658  0.101583   3164  0.082892   8904  0.078899   2344  0.084795   \n",
       "look      547  0.011929    500  0.013099   1829  0.016207    355  0.012842   \n",
       "myself   3069  0.066930   2107  0.055200   4844  0.042923   1142  0.041312   \n",
       "and     26922  0.587124  22030  0.577155  69381  0.614791  18008  0.651449   \n",
       "feel    30323  0.661295  24728  0.647839  82108  0.727566  19637  0.710379   \n",
       "\n",
       "        Sadness  SadnessP  Surprise  SurpriseP  \n",
       "just       9344  0.096381      1200   0.100184  \n",
       "look       1289  0.013296       274   0.022875  \n",
       "myself     5543  0.057174       617   0.051511  \n",
       "and       56456  0.582327      7308   0.610119  \n",
       "feel      67268  0.693849      7952   0.663884  "
      ]
     },
     "execution_count": 14,
     "metadata": {},
     "output_type": "execute_result"
    }
   ],
   "source": [
    "#Guardar modelo en un csv\n",
    "model_df.to_csv('model.csv', index=True)\n",
    "\n",
    "model_df.head()"
   ]
  }
 ],
 "metadata": {
  "kernelspec": {
   "display_name": "Python 3 (ipykernel)",
   "language": "python",
   "name": "python3"
  },
  "language_info": {
   "codemirror_mode": {
    "name": "ipython",
    "version": 3
   },
   "file_extension": ".py",
   "mimetype": "text/x-python",
   "name": "python",
   "nbconvert_exporter": "python",
   "pygments_lexer": "ipython3",
   "version": "3.12.3"
  }
 },
 "nbformat": 4,
 "nbformat_minor": 4
}
